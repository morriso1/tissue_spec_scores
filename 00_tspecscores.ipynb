{
 "cells": [
  {
   "cell_type": "code",
   "execution_count": null,
   "metadata": {},
   "outputs": [],
   "source": [
    "# default_exp tspecscores\n"
   ]
  },
  {
   "cell_type": "markdown",
   "metadata": {},
   "source": [
    "# tspecscores\n",
    "\n",
    "> Calculate different tissue specificity metrics"
   ]
  },
  {
   "cell_type": "code",
   "execution_count": null,
   "metadata": {},
   "outputs": [],
   "source": [
    "# hide\n",
    "from nbdev.showdoc import *\n"
   ]
  },
  {
   "cell_type": "code",
   "execution_count": null,
   "metadata": {},
   "outputs": [],
   "source": [
    "# hide\n",
    "%load_ext autoreload\n",
    "%autoreload 2"
   ]
  },
  {
   "cell_type": "code",
   "execution_count": null,
   "metadata": {},
   "outputs": [],
   "source": [
    "# export\n",
    "import pandas as pd\n",
    "import numpy as np\n"
   ]
  },
  {
   "cell_type": "code",
   "execution_count": null,
   "metadata": {},
   "outputs": [],
   "source": [
    "# export\n",
    "def log_it(df: pd.DataFrame) -> pd.DataFrame:\n",
    "    return np.log(1 + df)\n"
   ]
  },
  {
   "cell_type": "code",
   "execution_count": null,
   "metadata": {},
   "outputs": [],
   "source": [
    "# export\n",
    "def tsi(df: pd.DataFrame) -> pd.DataFrame:\n",
    "    foo = np.sum(df.values, axis=1)[:, None]\n",
    "    return pd.DataFrame(\n",
    "        np.divide(df.values, foo, where=foo != 0), index=df.index, columns=df.columns\n",
    "    )\n"
   ]
  },
  {
   "cell_type": "code",
   "execution_count": null,
   "metadata": {},
   "outputs": [],
   "source": [
    "# export\n",
    "def spm(df: pd.DataFrame) -> pd.DataFrame:\n",
    "    foo = np.linalg.norm(df.values, axis=1)[:, None] * df.values\n",
    "    return pd.DataFrame(\n",
    "        np.divide(df.values ** 2, foo, where=foo != 0),\n",
    "        index=df.index,\n",
    "        columns=df.columns,\n",
    "    )\n"
   ]
  },
  {
   "cell_type": "code",
   "execution_count": null,
   "metadata": {},
   "outputs": [],
   "source": [
    "# export\n",
    "def zscore(df: pd.DataFrame, transform=True) -> pd.DataFrame:\n",
    "    std = np.std(df.values, axis=1, ddof=1)[:, None]\n",
    "    zs = np.divide(df.values - df.values.mean(axis=1)[:, None], std, where=std != 0)\n",
    "    zs[np.where(std == 0)[0], :] = 0\n",
    "    if transform:\n",
    "        max_zs = (df.values.shape[1] - 1) / np.sqrt(df.values.shape[1])\n",
    "        zs = np.divide((zs + max_zs), (2 * max_zs), where=zs != 0)\n",
    "    return pd.DataFrame(zs, index=df.index, columns=df.columns)\n",
    "\n"
   ]
  },
  {
   "cell_type": "code",
   "execution_count": null,
   "metadata": {},
   "outputs": [],
   "source": [
    "# export\n",
    "def tau(df):\n",
    "    foo = np.max(df.values, axis=1)[:, None]\n",
    "    vector_r = np.divide(df.values, foo, where=foo != 0)\n",
    "    tau_index = np.sum(1 - vector_r, axis=1) / (df.values.shape[1] - 1)\n",
    "    return pd.Series(tau_index, index=df.index)\n"
   ]
  },
  {
   "cell_type": "code",
   "execution_count": null,
   "metadata": {},
   "outputs": [],
   "source": [
    "# export\n",
    "def calc_ts(\n",
    "    df: pd.DataFrame, method: str = \"spm\", log: bool = True, **kwargs\n",
    ") -> pd.DataFrame:\n",
    "    ts_func = {\"tsi\": tsi, \"spm\": spm, \"zscore\": zscore, \"tau\": tau}\n",
    "    ts_df = df.copy()\n",
    "    if log:\n",
    "        ts_df = log_it(ts_df)\n",
    "\n",
    "    return ts_func[method](ts_df, **kwargs)\n"
   ]
  }
 ],
 "metadata": {
  "kernelspec": {
   "display_name": "Python 3",
   "language": "python",
   "name": "python3"
  }
 },
 "nbformat": 4,
 "nbformat_minor": 2
}
